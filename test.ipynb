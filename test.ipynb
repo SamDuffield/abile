{
 "cells": [
  {
   "cell_type": "code",
   "execution_count": 23,
   "metadata": {},
   "outputs": [],
   "source": [
    "from functools import partial\n",
    "from jax import numpy as jnp, random, vmap\n",
    "import matplotlib.pyplot as plt\n",
    "\n",
    "import models\n",
    "from filtering import filter_sweep\n",
    "\n",
    "rk = random.PRNGKey(0)\n",
    "\n",
    "n_players = 10\n",
    "n_matches = 200\n",
    "\n",
    "init_mean = 0.\n",
    "init_sd = 1.\n",
    "tau = 1.\n",
    "s = 2.\n",
    "epsilon = 1.\n",
    "\n",
    "mt_key, mi_key, init_skill_key, sim_key, filter_key, init_particle_key = random.split(rk, 6)\n",
    "\n",
    "match_times = random.uniform(mt_key, shape=(n_matches,)).sort()\n",
    "mi_keys = random.split(mi_key, n_matches)\n",
    "match_indices_seq = vmap(lambda rk: random.choice(rk, a=jnp.arange(n_players, ), shape=(2,), replace=False))(mi_keys)\n",
    "\n",
    "init_player_times = jnp.zeros(n_players)\n",
    "init_player_skills = init_mean + init_sd * random.normal(init_skill_key, shape=(n_players,))\n",
    "\n",
    "\n",
    "# Simulate data from trueskill model\n",
    "sim_skills_p1, sim_skills_p2, sim_results = models.trueskill.simulate(init_player_times,\n",
    "                                                                      init_player_skills,\n",
    "                                                                      match_times,\n",
    "                                                                      match_indices_seq,\n",
    "                                                                      tau,\n",
    "                                                                      [s, epsilon],\n",
    "                                                                      sim_key)\n",
    "# Filter (with arbitrary parameters)\n",
    "filter_sweep_data = partial(filter_sweep,\n",
    "                            init_player_times=init_player_times,\n",
    "                            match_times=match_times,\n",
    "                            match_player_indices_seq=match_indices_seq,\n",
    "                            match_results=sim_results,\n",
    "                            random_key=filter_key)\n",
    "\n",
    "elo_filter_out = filter_sweep_data(models.elo.filter,\n",
    "                                   init_player_skills=init_player_skills,\n",
    "                                   static_propagate_params=None, static_update_params=[1., 1.])\n",
    "\n",
    "init_player_skills_and_var = jnp.vstack([init_player_skills, jnp.ones(n_players)]).T\n",
    "glicko_filter_out = filter_sweep_data(models.glicko.filter,\n",
    "                                      init_player_skills=init_player_skills_and_var,\n",
    "                                      static_propagate_params=[1., 350 ** 2], static_update_params=None)\n",
    "\n",
    "trueskill_filter_out = filter_sweep_data(models.trueskill.filter,\n",
    "                                         init_player_skills=init_player_skills_and_var,\n",
    "                                         static_propagate_params=tau, static_update_params=[s, epsilon])\n",
    "\n",
    "n_particles = 100\n",
    "init_player_skills_particles = init_player_skills.reshape(n_players, 1) \\\n",
    "                               + init_sd * random.normal(init_particle_key, shape=(n_players, n_particles))\n",
    "lsmc_filter_out = filter_sweep_data(models.lsmc.filter,\n",
    "                                    init_player_skills=init_player_skills_particles,\n",
    "                                    static_propagate_params=tau, static_update_params=[s, epsilon])"
   ]
  },
  {
   "cell_type": "code",
   "execution_count": 14,
   "metadata": {},
   "outputs": [],
   "source": [
    "initial_distribution_skills = jnp.zeros((10))\n",
    "initial_distribution_skills = initial_distribution_skills.at[0].set(0.8)\n",
    "initial_distribution_skills = initial_distribution_skills.at[1].set(0.2)\n",
    "\n",
    "_, initial_distribution_skills_player = models.discreteskill.initiator(n_players, initial_distribution_skills, rk)\n",
    "\n",
    "discrete_filter_out  = filter_sweep_data(models.discreteskill.filter,\n",
    "                                         init_player_skills=initial_distribution_skills_player,\n",
    "                                         static_propagate_params=tau, static_update_params=[s, epsilon])"
   ]
  },
  {
   "cell_type": "code",
   "execution_count": 25,
   "metadata": {},
   "outputs": [],
   "source": [
    "# Plot results\n",
    "bin_width = 0.2\n",
    "inds = jnp.arange(20)#n_matches)\n",
    "alph = 0.5\n",
    "\n",
    "\n",
    "def plot_predictions(ax, predictions, barpos):\n",
    "    ax.bar(inds + barpos * bin_width, predictions[:, 2], bottom=1 - predictions[:, 2], width=bin_width * 0.8,\n",
    "           color='purple', alpha=alph)  # p2 wins\n",
    "    ax.bar(inds + barpos * bin_width, predictions[:, 0], bottom=predictions[:, 1], width=bin_width * 0.8, color='blue',\n",
    "           alpha=alph)  # draw\n",
    "    ax.bar(inds + barpos * bin_width, predictions[:, 1], bin_width * 0.8, color='green', alpha=alph)  # p1 wins\n"
   ]
  },
  {
   "cell_type": "code",
   "execution_count": 26,
   "metadata": {},
   "outputs": [
    {
     "data": {
      "image/png": "[encoded data removed]",
      "text/plain": [
       "<Figure size 432x288 with 1 Axes>"
      ]
     },
     "metadata": {
      "needs_background": "light"
     },
     "output_type": "display_data"
    }
   ],
   "source": [
    "fig, ax = plt.subplots()\n",
    "plot_predictions(ax, discrete_filter_out[-1][-20:,:], 0)\n",
    "# plot_predictions(ax, glicko_filter_out[-1], 1)\n",
    "# plot_predictions(ax, trueskill_filter_out[-1], 2)\n",
    "plot_predictions(ax, lsmc_filter_out[-1][-20:,:], 1)\n",
    "# plot_predictions(ax, discrete_filter_out[-1], 4)\n",
    "\n",
    "res_cols = [['blue', 'green', 'purple'][r] for r in sim_results[-20:]]\n",
    "res_to_probpos = {0: 0.5, 1: 0, 2: 1}\n",
    "res_probs = [res_to_probpos[int(r)] for r in sim_results[-20:]]\n",
    "ax.scatter(inds + bin_width * 1.5, res_probs, c=res_cols, marker='x')\n",
    "ax.set_xlabel('Match')\n",
    "ax.set_ylabel('Probability')\n",
    "ax.spines['top'].set_visible(False)\n",
    "ax.spines['right'].set_visible(False)\n",
    "fig.tight_layout()"
   ]
  },
  {
   "cell_type": "code",
   "execution_count": 16,
   "metadata": {},
   "outputs": [
    {
     "data": {
      "text/plain": [
       "(200, 3)"
      ]
     },
     "execution_count": 16,
     "metadata": {},
     "output_type": "execute_result"
    }
   ],
   "source": [
    "discrete_filter_out[-1].shape"
   ]
  },
  {
   "cell_type": "code",
   "execution_count": null,
   "metadata": {},
   "outputs": [],
   "source": []
  },
  {
   "cell_type": "code",
   "execution_count": null,
   "metadata": {},
   "outputs": [],
   "source": []
  }
 ],
 "metadata": {
  "kernelspec": {
   "display_name": "Python ('JAX_env')",
   "language": "python",
   "name": "python3"
  },
  "language_info": {
   "codemirror_mode": {
    "name": "ipython",
    "version": 3
   },
   "file_extension": ".py",
   "mimetype": "text/x-python",
   "name": "python",
   "nbconvert_exporter": "python",
   "pygments_lexer": "ipython3",
   "version": "3.7.7"
  },
  "orig_nbformat": 4,
  "vscode": {
   "interpreter": {
    "hash": "25a19fbe0a9132dfb9279d48d161753c6352f8f9478c2e74383d340069b907c3"
   }
  }
 },
 "nbformat": 4,
 "nbformat_minor": 2
}
